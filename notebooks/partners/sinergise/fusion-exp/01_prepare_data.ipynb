{
 "cells": [
  {
   "cell_type": "code",
   "execution_count": 1,
   "metadata": {
    "collapsed": false
   },
   "outputs": [],
   "source": [
    "import multiprocessing\n",
    "from concurrent.futures import ProcessPoolExecutor\n",
    "\n",
    "from tqdm.auto import tqdm\n",
    "from utils import (\n",
    "    ARDSchema,\n",
    "    ExperimentSchema,\n",
    "    OptimizationSchema,\n",
    "    create_groups,\n",
    "    get_group,\n",
    "    load_ard_data,\n",
    "    optimize_single,\n",
    "    plot_2outputs,\n",
    "    postproc_mw_events,\n",
    "    run_experiment,\n",
    "    run_mowing,\n",
    ")"
   ]
  },
  {
   "cell_type": "code",
   "execution_count": 2,
   "metadata": {},
   "outputs": [],
   "source": [
    "multiprocessing.set_start_method(\"fork\")"
   ]
  },
  {
   "cell_type": "code",
   "execution_count": 3,
   "metadata": {},
   "outputs": [],
   "source": [
    "ard_config = ARDSchema(\n",
    "    s1_path=\"./data/S1COH6D/signals/dataset/\",\n",
    "    s2_path=\"./data/S2/signals-crop/dataset/\",\n",
    "    otsc_path=\"./data/Sinergise OTSC results 2020.xlsx\",\n",
    "    min_foi_nobs=15,\n",
    "    min_foi_size=50,\n",
    "    lu_label=\"5\",\n",
    ")\n",
    "\n",
    "# dataframes for meadows\n",
    "df_s1, df_s2 = load_ard_data(ard_config)\n",
    "_, df_s2_mowing = load_ard_data(ARDSchema(**{**ard_config.dict(), \"s2_valid_query_mode\": \"strict\"}))"
   ]
  },
  {
   "cell_type": "code",
   "execution_count": 4,
   "metadata": {},
   "outputs": [
    {
     "data": {
      "application/vnd.jupyter.widget-view+json": {
       "model_id": "ef7ac6af4f8d4749a8bda5e8140d6d67",
       "version_major": 2,
       "version_minor": 0
      },
      "text/plain": [
       "  0%|          | 0/47135 [00:00<?, ?it/s]"
      ]
     },
     "metadata": {},
     "output_type": "display_data"
    }
   ],
   "source": [
    "# run mowing for NDVI\n",
    "df_list = [df for _, df in df_s2_mowing.groupby(\"POLY_ID\")]\n",
    "\n",
    "with ProcessPoolExecutor() as executor:\n",
    "    result_list = list(tqdm(executor.map(run_mowing, df_list), total=df_s2_mowing.POLY_ID.nunique()))\n",
    "\n",
    "results = []\n",
    "for result in result_list:\n",
    "    results.extend(result)\n",
    "\n",
    "df_mw = postproc_mw_events(results)"
   ]
  },
  {
   "cell_type": "code",
   "execution_count": 5,
   "metadata": {},
   "outputs": [],
   "source": [
    "# dump data\n",
    "df_s1.to_parquet(\"./data/s1_ard.pq\")\n",
    "df_s2.to_parquet(\"./data/s2_ard.pq\")\n",
    "df_mw.to_parquet(\"./data/s2_mowing.pq\")"
   ]
  }
 ],
 "metadata": {
  "kernelspec": {
   "display_name": "ai4food",
   "language": "python",
   "name": "python3"
  },
  "language_info": {
   "codemirror_mode": {
    "name": "ipython",
    "version": 3
   },
   "file_extension": ".py",
   "mimetype": "text/x-python",
   "name": "python",
   "nbconvert_exporter": "python",
   "pygments_lexer": "ipython3",
   "version": "3.8.7"
  },
  "vscode": {
   "interpreter": {
    "hash": "33c20a4d08d84a1eb87b835f70d5565c784b8aa57395721a120453ef33ea65d1"
   }
  }
 },
 "nbformat": 4,
 "nbformat_minor": 0
}
