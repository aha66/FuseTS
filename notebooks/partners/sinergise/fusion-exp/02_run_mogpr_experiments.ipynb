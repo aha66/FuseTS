{
 "cells": [
  {
   "cell_type": "code",
   "execution_count": 2,
   "metadata": {
    "collapsed": false
   },
   "outputs": [],
   "source": [
    "import itertools\n",
    "import warnings\n",
    "\n",
    "import pandas as pd\n",
    "from tqdm.auto import tqdm\n",
    "from utils import (\n",
    "    ExperimentSchema,\n",
    "    OptimizationSchema,\n",
    "    run_experiment,\n",
    ")"
   ]
  },
  {
   "cell_type": "code",
   "execution_count": 3,
   "metadata": {},
   "outputs": [],
   "source": [
    "# load ARD data\n",
    "df_s1 = pd.read_parquet(\"./data/s1_ard.pq\")\n",
    "df_s2 = pd.read_parquet(\"./data/s2_ard.pq\")\n",
    "df_mw = pd.read_parquet(\"./data/s2_mowing.pq\")"
   ]
  },
  {
   "cell_type": "code",
   "execution_count": 10,
   "metadata": {},
   "outputs": [
    {
     "data": {
      "application/vnd.jupyter.widget-view+json": {
       "model_id": "55a0fd8303b8479b8f6042c411c81953",
       "version_major": 2,
       "version_minor": 0
      },
      "text/plain": [
       "  0%|          | 0/54 [00:00<?, ?it/s]"
      ]
     },
     "metadata": {},
     "output_type": "display_data"
    }
   ],
   "source": [
    "exp_settings = {\n",
    "    \"s1_var\": [\"VV\", \"VH\", \"RVI\"],\n",
    "    \"normalize\": [True, False],\n",
    "    \"group_size\": [1, 2, 4],\n",
    "    \"kernel_name\": [\"ICM_Mat32\", \"ICM_Bias+Mat32\", \"LCM_Bias+Mat32\"],\n",
    "}\n",
    "\n",
    "\n",
    "def product_dict(settings):\n",
    "    keys = settings.keys()\n",
    "    vals = settings.values()\n",
    "    for instance in itertools.product(*vals):\n",
    "        yield dict(zip(keys, instance))\n",
    "\n",
    "\n",
    "base_config = dict(\n",
    "    n_groups=2,\n",
    "    opt_config=OptimizationSchema(num_restarts=1, num_processes=1, optimizer=\"org-bfgs\"),\n",
    "    save_to=\"./results/\",\n",
    ")\n",
    "\n",
    "warnings.filterwarnings(\"ignore\")\n",
    "configs = [ExperimentSchema(**base_config, **settings) for settings in list(product_dict(exp_settings))]\n",
    "for config in tqdm(configs):\n",
    "    _ = run_experiment(df_s1, df_s2, config)"
   ]
  },
  {
   "cell_type": "code",
   "execution_count": 4,
   "metadata": {},
   "outputs": [],
   "source": [
    "# run_experiment(df_s1, df_s2, ExperimentSchema(**{**config.dict(), \"group_size\": 1, \"n_groups\": 1}))"
   ]
  }
 ],
 "metadata": {
  "kernelspec": {
   "display_name": "ai4food",
   "language": "python",
   "name": "python3"
  },
  "language_info": {
   "codemirror_mode": {
    "name": "ipython",
    "version": 3
   },
   "file_extension": ".py",
   "mimetype": "text/x-python",
   "name": "python",
   "nbconvert_exporter": "python",
   "pygments_lexer": "ipython3",
   "version": "3.8.7"
  },
  "vscode": {
   "interpreter": {
    "hash": "33c20a4d08d84a1eb87b835f70d5565c784b8aa57395721a120453ef33ea65d1"
   }
  }
 },
 "nbformat": 4,
 "nbformat_minor": 0
}
